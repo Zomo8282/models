{
 "cells": [
  {
   "cell_type": "code",
   "execution_count": 262,
   "metadata": {},
   "outputs": [],
   "source": [
    "import pandas as pd \n",
    "import seaborn as sns\n"
   ]
  },
  {
   "cell_type": "code",
   "execution_count": 263,
   "metadata": {},
   "outputs": [],
   "source": [
    "d1=pd.read_csv(\"pdata\\hw2.1.csv\",sep=\";\",index_col=\"id\")\n",
    "d2=pd.read_csv(\"pdata\\hw2.2.csv\",sep=\";\",index_col=\"id\")"
   ]
  },
  {
   "cell_type": "code",
   "execution_count": 264,
   "metadata": {},
   "outputs": [
    {
     "data": {
      "text/html": [
       "<div>\n",
       "<style scoped>\n",
       "    .dataframe tbody tr th:only-of-type {\n",
       "        vertical-align: middle;\n",
       "    }\n",
       "\n",
       "    .dataframe tbody tr th {\n",
       "        vertical-align: top;\n",
       "    }\n",
       "\n",
       "    .dataframe thead th {\n",
       "        text-align: right;\n",
       "    }\n",
       "</style>\n",
       "<table border=\"1\" class=\"dataframe\">\n",
       "  <thead>\n",
       "    <tr style=\"text-align: right;\">\n",
       "      <th></th>\n",
       "      <th>gender</th>\n",
       "      <th>status</th>\n",
       "      <th>employed</th>\n",
       "      <th>income</th>\n",
       "      <th>extraIncome</th>\n",
       "      <th>expenses</th>\n",
       "      <th>buy</th>\n",
       "    </tr>\n",
       "    <tr>\n",
       "      <th>id</th>\n",
       "      <th></th>\n",
       "      <th></th>\n",
       "      <th></th>\n",
       "      <th></th>\n",
       "      <th></th>\n",
       "      <th></th>\n",
       "      <th></th>\n",
       "    </tr>\n",
       "  </thead>\n",
       "  <tbody>\n",
       "    <tr>\n",
       "      <th>LP001002</th>\n",
       "      <td>Male</td>\n",
       "      <td>No</td>\n",
       "      <td>No</td>\n",
       "      <td>5849.0</td>\n",
       "      <td>0.0</td>\n",
       "      <td>NaN</td>\n",
       "      <td>Y</td>\n",
       "    </tr>\n",
       "    <tr>\n",
       "      <th>LP001003</th>\n",
       "      <td>Male</td>\n",
       "      <td>NaN</td>\n",
       "      <td>No</td>\n",
       "      <td>4583.0</td>\n",
       "      <td>1508.0</td>\n",
       "      <td>1111.0</td>\n",
       "      <td>N</td>\n",
       "    </tr>\n",
       "    <tr>\n",
       "      <th>LP001004</th>\n",
       "      <td>Male</td>\n",
       "      <td>Yes</td>\n",
       "      <td>Yes</td>\n",
       "      <td>3000.0</td>\n",
       "      <td>0.0</td>\n",
       "      <td>66.0</td>\n",
       "      <td>Y</td>\n",
       "    </tr>\n",
       "    <tr>\n",
       "      <th>LP001005</th>\n",
       "      <td>Male</td>\n",
       "      <td>Yes</td>\n",
       "      <td>No</td>\n",
       "      <td>2583.0</td>\n",
       "      <td>2358.0</td>\n",
       "      <td>120.0</td>\n",
       "      <td>Y</td>\n",
       "    </tr>\n",
       "    <tr>\n",
       "      <th>LP001006</th>\n",
       "      <td>Male</td>\n",
       "      <td>No</td>\n",
       "      <td>No</td>\n",
       "      <td>NaN</td>\n",
       "      <td>0.0</td>\n",
       "      <td>141.0</td>\n",
       "      <td>Y</td>\n",
       "    </tr>\n",
       "  </tbody>\n",
       "</table>\n",
       "</div>"
      ],
      "text/plain": [
       "         gender status employed  income  extraIncome  expenses buy\n",
       "id                                                                \n",
       "LP001002   Male     No       No  5849.0          0.0       NaN   Y\n",
       "LP001003   Male    NaN       No  4583.0       1508.0    1111.0   N\n",
       "LP001004   Male    Yes      Yes  3000.0          0.0      66.0   Y\n",
       "LP001005   Male    Yes       No  2583.0       2358.0     120.0   Y\n",
       "LP001006   Male     No       No     NaN          0.0     141.0   Y"
      ]
     },
     "execution_count": 264,
     "metadata": {},
     "output_type": "execute_result"
    }
   ],
   "source": [
    "d1.head(5)"
   ]
  },
  {
   "cell_type": "code",
   "execution_count": 265,
   "metadata": {},
   "outputs": [
    {
     "data": {
      "text/plain": [
       "Male    30\n",
       "Name: gender, dtype: int64"
      ]
     },
     "execution_count": 265,
     "metadata": {},
     "output_type": "execute_result"
    }
   ],
   "source": [
    "pd.value_counts(d1[\"gender\"])"
   ]
  },
  {
   "cell_type": "code",
   "execution_count": 266,
   "metadata": {},
   "outputs": [
    {
     "data": {
      "text/html": [
       "<div>\n",
       "<style scoped>\n",
       "    .dataframe tbody tr th:only-of-type {\n",
       "        vertical-align: middle;\n",
       "    }\n",
       "\n",
       "    .dataframe tbody tr th {\n",
       "        vertical-align: top;\n",
       "    }\n",
       "\n",
       "    .dataframe thead th {\n",
       "        text-align: right;\n",
       "    }\n",
       "</style>\n",
       "<table border=\"1\" class=\"dataframe\">\n",
       "  <thead>\n",
       "    <tr style=\"text-align: right;\">\n",
       "      <th></th>\n",
       "      <th>gender</th>\n",
       "      <th>status</th>\n",
       "      <th>employed</th>\n",
       "      <th>income</th>\n",
       "      <th>extraIncome</th>\n",
       "      <th>expenses</th>\n",
       "      <th>buy</th>\n",
       "    </tr>\n",
       "    <tr>\n",
       "      <th>id</th>\n",
       "      <th></th>\n",
       "      <th></th>\n",
       "      <th></th>\n",
       "      <th></th>\n",
       "      <th></th>\n",
       "      <th></th>\n",
       "      <th></th>\n",
       "    </tr>\n",
       "  </thead>\n",
       "  <tbody>\n",
       "    <tr>\n",
       "      <th>LP0010050</th>\n",
       "      <td>Male</td>\n",
       "      <td>No</td>\n",
       "      <td>No</td>\n",
       "      <td>43534.0</td>\n",
       "      <td>0.0</td>\n",
       "      <td>NaN</td>\n",
       "      <td>Y</td>\n",
       "    </tr>\n",
       "    <tr>\n",
       "      <th>LP0010051</th>\n",
       "      <td>Male</td>\n",
       "      <td>NaN</td>\n",
       "      <td>No</td>\n",
       "      <td>4583.0</td>\n",
       "      <td>1508.0</td>\n",
       "      <td>1111.0</td>\n",
       "      <td>N</td>\n",
       "    </tr>\n",
       "    <tr>\n",
       "      <th>LP0010052</th>\n",
       "      <td>Male</td>\n",
       "      <td>Yes</td>\n",
       "      <td>Yes</td>\n",
       "      <td>43534.0</td>\n",
       "      <td>0.0</td>\n",
       "      <td>5345.0</td>\n",
       "      <td>Y</td>\n",
       "    </tr>\n",
       "    <tr>\n",
       "      <th>LP0010053</th>\n",
       "      <td>Male</td>\n",
       "      <td>Yes</td>\n",
       "      <td>No</td>\n",
       "      <td>2583.0</td>\n",
       "      <td>2358.0</td>\n",
       "      <td>120.0</td>\n",
       "      <td>Y</td>\n",
       "    </tr>\n",
       "    <tr>\n",
       "      <th>LP0010054</th>\n",
       "      <td>Male</td>\n",
       "      <td>No</td>\n",
       "      <td>No</td>\n",
       "      <td>NaN</td>\n",
       "      <td>0.0</td>\n",
       "      <td>141.0</td>\n",
       "      <td>Y</td>\n",
       "    </tr>\n",
       "  </tbody>\n",
       "</table>\n",
       "</div>"
      ],
      "text/plain": [
       "          gender status employed   income  extraIncome  expenses buy\n",
       "id                                                                  \n",
       "LP0010050   Male     No       No  43534.0          0.0       NaN   Y\n",
       "LP0010051   Male    NaN       No   4583.0       1508.0    1111.0   N\n",
       "LP0010052   Male    Yes      Yes  43534.0          0.0    5345.0   Y\n",
       "LP0010053   Male    Yes       No   2583.0       2358.0     120.0   Y\n",
       "LP0010054   Male     No       No      NaN          0.0     141.0   Y"
      ]
     },
     "execution_count": 266,
     "metadata": {},
     "output_type": "execute_result"
    }
   ],
   "source": [
    "d2.head(5)\n"
   ]
  },
  {
   "cell_type": "code",
   "execution_count": 267,
   "metadata": {},
   "outputs": [
    {
     "data": {
      "text/plain": [
       "Male    20\n",
       "Name: gender, dtype: int64"
      ]
     },
     "execution_count": 267,
     "metadata": {},
     "output_type": "execute_result"
    }
   ],
   "source": [
    "pd.value_counts(d2[\"gender\"])"
   ]
  },
  {
   "cell_type": "code",
   "execution_count": 268,
   "metadata": {},
   "outputs": [
    {
     "data": {
      "text/plain": [
       "140"
      ]
     },
     "execution_count": 268,
     "metadata": {},
     "output_type": "execute_result"
    }
   ],
   "source": [
    "d2.size"
   ]
  },
  {
   "cell_type": "code",
   "execution_count": 269,
   "metadata": {},
   "outputs": [
    {
     "data": {
      "text/plain": [
       "210"
      ]
     },
     "execution_count": 269,
     "metadata": {},
     "output_type": "execute_result"
    }
   ],
   "source": [
    "d1.size"
   ]
  },
  {
   "cell_type": "code",
   "execution_count": 270,
   "metadata": {},
   "outputs": [
    {
     "name": "stdout",
     "output_type": "stream",
     "text": [
      "350 \n",
      " (50, 7)\n"
     ]
    }
   ],
   "source": [
    "df=pd.concat([d1,d2])\n",
    "print(df.size,\"\\n\",df.shape)"
   ]
  },
  {
   "cell_type": "code",
   "execution_count": 271,
   "metadata": {},
   "outputs": [
    {
     "name": "stdout",
     "output_type": "stream",
     "text": [
      "<class 'pandas.core.frame.DataFrame'>\n",
      "Index: 20 entries, LP0010050 to LP0010069\n",
      "Data columns (total 7 columns):\n",
      " #   Column       Non-Null Count  Dtype  \n",
      "---  ------       --------------  -----  \n",
      " 0   gender       20 non-null     object \n",
      " 1   status       16 non-null     object \n",
      " 2   employed     19 non-null     object \n",
      " 3   income       18 non-null     float64\n",
      " 4   extraIncome  18 non-null     float64\n",
      " 5   expenses     17 non-null     float64\n",
      " 6   buy          18 non-null     object \n",
      "dtypes: float64(3), object(4)\n",
      "memory usage: 1.2+ KB\n"
     ]
    }
   ],
   "source": [
    "d2.info()"
   ]
  },
  {
   "cell_type": "code",
   "execution_count": 272,
   "metadata": {},
   "outputs": [
    {
     "data": {
      "text/html": [
       "<div>\n",
       "<style scoped>\n",
       "    .dataframe tbody tr th:only-of-type {\n",
       "        vertical-align: middle;\n",
       "    }\n",
       "\n",
       "    .dataframe tbody tr th {\n",
       "        vertical-align: top;\n",
       "    }\n",
       "\n",
       "    .dataframe thead th {\n",
       "        text-align: right;\n",
       "    }\n",
       "</style>\n",
       "<table border=\"1\" class=\"dataframe\">\n",
       "  <thead>\n",
       "    <tr style=\"text-align: right;\">\n",
       "      <th></th>\n",
       "      <th>income</th>\n",
       "      <th>extraIncome</th>\n",
       "      <th>expenses</th>\n",
       "    </tr>\n",
       "  </thead>\n",
       "  <tbody>\n",
       "    <tr>\n",
       "      <th>count</th>\n",
       "      <td>43.000000</td>\n",
       "      <td>44.000000</td>\n",
       "      <td>44.000000</td>\n",
       "    </tr>\n",
       "    <tr>\n",
       "      <th>mean</th>\n",
       "      <td>17550.837209</td>\n",
       "      <td>8754.295455</td>\n",
       "      <td>3072.340909</td>\n",
       "    </tr>\n",
       "    <tr>\n",
       "      <th>std</th>\n",
       "      <td>49956.890344</td>\n",
       "      <td>18734.728869</td>\n",
       "      <td>10040.625006</td>\n",
       "    </tr>\n",
       "    <tr>\n",
       "      <th>min</th>\n",
       "      <td>564.000000</td>\n",
       "      <td>0.000000</td>\n",
       "      <td>66.000000</td>\n",
       "    </tr>\n",
       "    <tr>\n",
       "      <th>25%</th>\n",
       "      <td>3000.000000</td>\n",
       "      <td>700.000000</td>\n",
       "      <td>113.250000</td>\n",
       "    </tr>\n",
       "  </tbody>\n",
       "</table>\n",
       "</div>"
      ],
      "text/plain": [
       "             income   extraIncome      expenses\n",
       "count     43.000000     44.000000     44.000000\n",
       "mean   17550.837209   8754.295455   3072.340909\n",
       "std    49956.890344  18734.728869  10040.625006\n",
       "min      564.000000      0.000000     66.000000\n",
       "25%     3000.000000    700.000000    113.250000"
      ]
     },
     "execution_count": 272,
     "metadata": {},
     "output_type": "execute_result"
    }
   ],
   "source": [
    "df.describe().head()"
   ]
  },
  {
   "cell_type": "code",
   "execution_count": 273,
   "metadata": {},
   "outputs": [
    {
     "data": {
      "text/html": [
       "<div>\n",
       "<style scoped>\n",
       "    .dataframe tbody tr th:only-of-type {\n",
       "        vertical-align: middle;\n",
       "    }\n",
       "\n",
       "    .dataframe tbody tr th {\n",
       "        vertical-align: top;\n",
       "    }\n",
       "\n",
       "    .dataframe thead th {\n",
       "        text-align: right;\n",
       "    }\n",
       "</style>\n",
       "<table border=\"1\" class=\"dataframe\">\n",
       "  <thead>\n",
       "    <tr style=\"text-align: right;\">\n",
       "      <th></th>\n",
       "      <th>gender</th>\n",
       "      <th>status</th>\n",
       "      <th>employed</th>\n",
       "      <th>buy</th>\n",
       "    </tr>\n",
       "    <tr>\n",
       "      <th>id</th>\n",
       "      <th></th>\n",
       "      <th></th>\n",
       "      <th></th>\n",
       "      <th></th>\n",
       "    </tr>\n",
       "  </thead>\n",
       "  <tbody>\n",
       "    <tr>\n",
       "      <th>LP001002</th>\n",
       "      <td>Male</td>\n",
       "      <td>No</td>\n",
       "      <td>No</td>\n",
       "      <td>Y</td>\n",
       "    </tr>\n",
       "    <tr>\n",
       "      <th>LP001003</th>\n",
       "      <td>Male</td>\n",
       "      <td>NaN</td>\n",
       "      <td>No</td>\n",
       "      <td>N</td>\n",
       "    </tr>\n",
       "    <tr>\n",
       "      <th>LP001004</th>\n",
       "      <td>Male</td>\n",
       "      <td>Yes</td>\n",
       "      <td>Yes</td>\n",
       "      <td>Y</td>\n",
       "    </tr>\n",
       "    <tr>\n",
       "      <th>LP001005</th>\n",
       "      <td>Male</td>\n",
       "      <td>Yes</td>\n",
       "      <td>No</td>\n",
       "      <td>Y</td>\n",
       "    </tr>\n",
       "    <tr>\n",
       "      <th>LP001006</th>\n",
       "      <td>Male</td>\n",
       "      <td>No</td>\n",
       "      <td>No</td>\n",
       "      <td>Y</td>\n",
       "    </tr>\n",
       "  </tbody>\n",
       "</table>\n",
       "</div>"
      ],
      "text/plain": [
       "         gender status employed buy\n",
       "id                                 \n",
       "LP001002   Male     No       No   Y\n",
       "LP001003   Male    NaN       No   N\n",
       "LP001004   Male    Yes      Yes   Y\n",
       "LP001005   Male    Yes       No   Y\n",
       "LP001006   Male     No       No   Y"
      ]
     },
     "execution_count": 273,
     "metadata": {},
     "output_type": "execute_result"
    }
   ],
   "source": [
    "df.select_dtypes(\"object\").head()#****************************"
   ]
  },
  {
   "cell_type": "code",
   "execution_count": 274,
   "metadata": {},
   "outputs": [
    {
     "data": {
      "text/html": [
       "<div>\n",
       "<style scoped>\n",
       "    .dataframe tbody tr th:only-of-type {\n",
       "        vertical-align: middle;\n",
       "    }\n",
       "\n",
       "    .dataframe tbody tr th {\n",
       "        vertical-align: top;\n",
       "    }\n",
       "\n",
       "    .dataframe thead th {\n",
       "        text-align: right;\n",
       "    }\n",
       "</style>\n",
       "<table border=\"1\" class=\"dataframe\">\n",
       "  <thead>\n",
       "    <tr style=\"text-align: right;\">\n",
       "      <th></th>\n",
       "      <th>gender</th>\n",
       "      <th>status</th>\n",
       "      <th>employed</th>\n",
       "      <th>buy</th>\n",
       "    </tr>\n",
       "  </thead>\n",
       "  <tbody>\n",
       "    <tr>\n",
       "      <th>count</th>\n",
       "      <td>50</td>\n",
       "      <td>40</td>\n",
       "      <td>46</td>\n",
       "      <td>46</td>\n",
       "    </tr>\n",
       "    <tr>\n",
       "      <th>unique</th>\n",
       "      <td>1</td>\n",
       "      <td>2</td>\n",
       "      <td>2</td>\n",
       "      <td>2</td>\n",
       "    </tr>\n",
       "    <tr>\n",
       "      <th>top</th>\n",
       "      <td>Male</td>\n",
       "      <td>Yes</td>\n",
       "      <td>No</td>\n",
       "      <td>Y</td>\n",
       "    </tr>\n",
       "    <tr>\n",
       "      <th>freq</th>\n",
       "      <td>50</td>\n",
       "      <td>30</td>\n",
       "      <td>35</td>\n",
       "      <td>31</td>\n",
       "    </tr>\n",
       "  </tbody>\n",
       "</table>\n",
       "</div>"
      ],
      "text/plain": [
       "       gender status employed buy\n",
       "count      50     40       46  46\n",
       "unique      1      2        2   2\n",
       "top      Male    Yes       No   Y\n",
       "freq       50     30       35  31"
      ]
     },
     "execution_count": 274,
     "metadata": {},
     "output_type": "execute_result"
    }
   ],
   "source": [
    "df.select_dtypes(\"object\").describe()\n"
   ]
  },
  {
   "cell_type": "code",
   "execution_count": 275,
   "metadata": {},
   "outputs": [
    {
     "data": {
      "text/plain": [
       "gender          0\n",
       "status         10\n",
       "employed        4\n",
       "income          7\n",
       "extraIncome     6\n",
       "expenses        6\n",
       "buy             4\n",
       "dtype: int64"
      ]
     },
     "execution_count": 275,
     "metadata": {},
     "output_type": "execute_result"
    }
   ],
   "source": [
    "df.isnull().sum()"
   ]
  },
  {
   "cell_type": "code",
   "execution_count": 276,
   "metadata": {},
   "outputs": [
    {
     "data": {
      "text/plain": [
       "11"
      ]
     },
     "execution_count": 276,
     "metadata": {},
     "output_type": "execute_result"
    }
   ],
   "source": [
    "df.duplicated().sum()\n"
   ]
  },
  {
   "cell_type": "code",
   "execution_count": 277,
   "metadata": {},
   "outputs": [
    {
     "data": {
      "text/plain": [
       "((39, 7), 273)"
      ]
     },
     "execution_count": 277,
     "metadata": {},
     "output_type": "execute_result"
    }
   ],
   "source": [
    "df.drop_duplicates(inplace=True) \n",
    "df.shape,df.size"
   ]
  },
  {
   "cell_type": "code",
   "execution_count": 278,
   "metadata": {},
   "outputs": [
    {
     "data": {
      "text/plain": [
       "array([  5849.,   4583.,   3000.,   2583.,     nan,   5417.,   2333.,\n",
       "         3036.,   4006.,   3200.,   2500.,   3073.,  45343.,   4444.,\n",
       "        56334.,    564.,  34332.,  43534., 324324.,   3434.,  12841.,\n",
       "         5676.,  21212.,  23243.,   6556.,   2232.,  32232.])"
      ]
     },
     "execution_count": 278,
     "metadata": {},
     "output_type": "execute_result"
    }
   ],
   "source": [
    "df[\"income\"].unique()"
   ]
  },
  {
   "cell_type": "code",
   "execution_count": 279,
   "metadata": {},
   "outputs": [],
   "source": [
    "df[\"status\"]=df[\"status\"].fillna(\"yes\")"
   ]
  },
  {
   "cell_type": "code",
   "execution_count": 280,
   "metadata": {},
   "outputs": [],
   "source": [
    "df[\"income\"]=df[\"income\"].fillna(df[\"income\"].mean())"
   ]
  },
  {
   "cell_type": "code",
   "execution_count": 281,
   "metadata": {},
   "outputs": [
    {
     "data": {
      "text/plain": [
       "No     26\n",
       "Yes    10\n",
       "Name: employed, dtype: int64"
      ]
     },
     "execution_count": 281,
     "metadata": {},
     "output_type": "execute_result"
    }
   ],
   "source": [
    "pd.value_counts(df[\"employed\"])"
   ]
  },
  {
   "cell_type": "code",
   "execution_count": 282,
   "metadata": {},
   "outputs": [],
   "source": [
    "df[\"employed\"]=df[\"employed\"].fillna(\"Yes\")"
   ]
  },
  {
   "cell_type": "code",
   "execution_count": 283,
   "metadata": {},
   "outputs": [
    {
     "data": {
      "text/plain": [
       "210"
      ]
     },
     "execution_count": 283,
     "metadata": {},
     "output_type": "execute_result"
    }
   ],
   "source": [
    "df=df.dropna()\n",
    "df.size"
   ]
  },
  {
   "cell_type": "code",
   "execution_count": 284,
   "metadata": {
    "scrolled": true
   },
   "outputs": [
    {
     "data": {
      "text/plain": [
       "gender         0\n",
       "status         0\n",
       "employed       0\n",
       "income         0\n",
       "extraIncome    0\n",
       "expenses       0\n",
       "buy            0\n",
       "dtype: int64"
      ]
     },
     "execution_count": 284,
     "metadata": {},
     "output_type": "execute_result"
    }
   ],
   "source": [
    "df.isnull().sum()"
   ]
  },
  {
   "cell_type": "code",
   "execution_count": null,
   "metadata": {},
   "outputs": [],
   "source": []
  },
  {
   "cell_type": "code",
   "execution_count": 285,
   "metadata": {},
   "outputs": [
    {
     "data": {
      "text/html": [
       "<div>\n",
       "<style scoped>\n",
       "    .dataframe tbody tr th:only-of-type {\n",
       "        vertical-align: middle;\n",
       "    }\n",
       "\n",
       "    .dataframe tbody tr th {\n",
       "        vertical-align: top;\n",
       "    }\n",
       "\n",
       "    .dataframe thead th {\n",
       "        text-align: right;\n",
       "    }\n",
       "</style>\n",
       "<table border=\"1\" class=\"dataframe\">\n",
       "  <thead>\n",
       "    <tr style=\"text-align: right;\">\n",
       "      <th></th>\n",
       "      <th>gender</th>\n",
       "      <th>status</th>\n",
       "      <th>employed</th>\n",
       "      <th>income</th>\n",
       "      <th>extraIncome</th>\n",
       "      <th>expenses</th>\n",
       "      <th>buy</th>\n",
       "    </tr>\n",
       "    <tr>\n",
       "      <th>id</th>\n",
       "      <th></th>\n",
       "      <th></th>\n",
       "      <th></th>\n",
       "      <th></th>\n",
       "      <th></th>\n",
       "      <th></th>\n",
       "      <th></th>\n",
       "    </tr>\n",
       "  </thead>\n",
       "  <tbody>\n",
       "    <tr>\n",
       "      <th>LP001003</th>\n",
       "      <td>Male</td>\n",
       "      <td>yes</td>\n",
       "      <td>No</td>\n",
       "      <td>4583.000000</td>\n",
       "      <td>1508.0</td>\n",
       "      <td>1111.0</td>\n",
       "      <td>N</td>\n",
       "    </tr>\n",
       "    <tr>\n",
       "      <th>LP001004</th>\n",
       "      <td>Male</td>\n",
       "      <td>Yes</td>\n",
       "      <td>Yes</td>\n",
       "      <td>3000.000000</td>\n",
       "      <td>0.0</td>\n",
       "      <td>66.0</td>\n",
       "      <td>Y</td>\n",
       "    </tr>\n",
       "    <tr>\n",
       "      <th>LP001005</th>\n",
       "      <td>Male</td>\n",
       "      <td>Yes</td>\n",
       "      <td>No</td>\n",
       "      <td>2583.000000</td>\n",
       "      <td>2358.0</td>\n",
       "      <td>120.0</td>\n",
       "      <td>Y</td>\n",
       "    </tr>\n",
       "    <tr>\n",
       "      <th>LP001006</th>\n",
       "      <td>Male</td>\n",
       "      <td>No</td>\n",
       "      <td>No</td>\n",
       "      <td>20326.888889</td>\n",
       "      <td>0.0</td>\n",
       "      <td>141.0</td>\n",
       "      <td>Y</td>\n",
       "    </tr>\n",
       "    <tr>\n",
       "      <th>LP001007</th>\n",
       "      <td>Male</td>\n",
       "      <td>Yes</td>\n",
       "      <td>Yes</td>\n",
       "      <td>5417.000000</td>\n",
       "      <td>4196.0</td>\n",
       "      <td>267.0</td>\n",
       "      <td>Y</td>\n",
       "    </tr>\n",
       "  </tbody>\n",
       "</table>\n",
       "</div>"
      ],
      "text/plain": [
       "         gender status employed        income  extraIncome  expenses buy\n",
       "id                                                                      \n",
       "LP001003   Male    yes       No   4583.000000       1508.0    1111.0   N\n",
       "LP001004   Male    Yes      Yes   3000.000000          0.0      66.0   Y\n",
       "LP001005   Male    Yes       No   2583.000000       2358.0     120.0   Y\n",
       "LP001006   Male     No       No  20326.888889          0.0     141.0   Y\n",
       "LP001007   Male    Yes      Yes   5417.000000       4196.0     267.0   Y"
      ]
     },
     "execution_count": 285,
     "metadata": {},
     "output_type": "execute_result"
    }
   ],
   "source": [
    "df.head()"
   ]
  },
  {
   "cell_type": "code",
   "execution_count": 286,
   "metadata": {},
   "outputs": [
    {
     "data": {
      "text/html": [
       "<div>\n",
       "<style scoped>\n",
       "    .dataframe tbody tr th:only-of-type {\n",
       "        vertical-align: middle;\n",
       "    }\n",
       "\n",
       "    .dataframe tbody tr th {\n",
       "        vertical-align: top;\n",
       "    }\n",
       "\n",
       "    .dataframe thead th {\n",
       "        text-align: right;\n",
       "    }\n",
       "</style>\n",
       "<table border=\"1\" class=\"dataframe\">\n",
       "  <thead>\n",
       "    <tr style=\"text-align: right;\">\n",
       "      <th></th>\n",
       "      <th>gender</th>\n",
       "      <th>status</th>\n",
       "      <th>employed</th>\n",
       "      <th>income</th>\n",
       "    </tr>\n",
       "    <tr>\n",
       "      <th>id</th>\n",
       "      <th></th>\n",
       "      <th></th>\n",
       "      <th></th>\n",
       "      <th></th>\n",
       "    </tr>\n",
       "  </thead>\n",
       "  <tbody>\n",
       "    <tr>\n",
       "      <th>LP001010</th>\n",
       "      <td>Male</td>\n",
       "      <td>Yes</td>\n",
       "      <td>No</td>\n",
       "      <td>4006.0</td>\n",
       "    </tr>\n",
       "    <tr>\n",
       "      <th>LP001013</th>\n",
       "      <td>Male</td>\n",
       "      <td>yes</td>\n",
       "      <td>Yes</td>\n",
       "      <td>2500.0</td>\n",
       "    </tr>\n",
       "    <tr>\n",
       "      <th>LP001027</th>\n",
       "      <td>Male</td>\n",
       "      <td>yes</td>\n",
       "      <td>Yes</td>\n",
       "      <td>564.0</td>\n",
       "    </tr>\n",
       "  </tbody>\n",
       "</table>\n",
       "</div>"
      ],
      "text/plain": [
       "         gender status employed  income\n",
       "id                                     \n",
       "LP001010   Male    Yes       No  4006.0\n",
       "LP001013   Male    yes      Yes  2500.0\n",
       "LP001027   Male    yes      Yes   564.0"
      ]
     },
     "execution_count": 286,
     "metadata": {},
     "output_type": "execute_result"
    }
   ],
   "source": [
    "x=df.iloc[[5,8,15],0:4]\n",
    "x"
   ]
  },
  {
   "cell_type": "code",
   "execution_count": null,
   "metadata": {},
   "outputs": [],
   "source": []
  },
  {
   "cell_type": "code",
   "execution_count": 287,
   "metadata": {},
   "outputs": [
    {
     "data": {
      "text/html": [
       "<div>\n",
       "<style scoped>\n",
       "    .dataframe tbody tr th:only-of-type {\n",
       "        vertical-align: middle;\n",
       "    }\n",
       "\n",
       "    .dataframe tbody tr th {\n",
       "        vertical-align: top;\n",
       "    }\n",
       "\n",
       "    .dataframe thead th {\n",
       "        text-align: right;\n",
       "    }\n",
       "</style>\n",
       "<table border=\"1\" class=\"dataframe\">\n",
       "  <thead>\n",
       "    <tr style=\"text-align: right;\">\n",
       "      <th></th>\n",
       "      <th>gender</th>\n",
       "      <th>status</th>\n",
       "      <th>employed</th>\n",
       "      <th>income</th>\n",
       "      <th>extraIncome</th>\n",
       "      <th>expenses</th>\n",
       "      <th>buy</th>\n",
       "      <th>total_income</th>\n",
       "    </tr>\n",
       "    <tr>\n",
       "      <th>id</th>\n",
       "      <th></th>\n",
       "      <th></th>\n",
       "      <th></th>\n",
       "      <th></th>\n",
       "      <th></th>\n",
       "      <th></th>\n",
       "      <th></th>\n",
       "      <th></th>\n",
       "    </tr>\n",
       "  </thead>\n",
       "  <tbody>\n",
       "    <tr>\n",
       "      <th>LP001003</th>\n",
       "      <td>Male</td>\n",
       "      <td>yes</td>\n",
       "      <td>No</td>\n",
       "      <td>4583.000000</td>\n",
       "      <td>1508.0</td>\n",
       "      <td>1111.0</td>\n",
       "      <td>N</td>\n",
       "      <td>6091.000000</td>\n",
       "    </tr>\n",
       "    <tr>\n",
       "      <th>LP001004</th>\n",
       "      <td>Male</td>\n",
       "      <td>Yes</td>\n",
       "      <td>Yes</td>\n",
       "      <td>3000.000000</td>\n",
       "      <td>0.0</td>\n",
       "      <td>66.0</td>\n",
       "      <td>Y</td>\n",
       "      <td>3000.000000</td>\n",
       "    </tr>\n",
       "    <tr>\n",
       "      <th>LP001005</th>\n",
       "      <td>Male</td>\n",
       "      <td>Yes</td>\n",
       "      <td>No</td>\n",
       "      <td>2583.000000</td>\n",
       "      <td>2358.0</td>\n",
       "      <td>120.0</td>\n",
       "      <td>Y</td>\n",
       "      <td>4941.000000</td>\n",
       "    </tr>\n",
       "    <tr>\n",
       "      <th>LP001006</th>\n",
       "      <td>Male</td>\n",
       "      <td>No</td>\n",
       "      <td>No</td>\n",
       "      <td>20326.888889</td>\n",
       "      <td>0.0</td>\n",
       "      <td>141.0</td>\n",
       "      <td>Y</td>\n",
       "      <td>20326.888889</td>\n",
       "    </tr>\n",
       "    <tr>\n",
       "      <th>LP001007</th>\n",
       "      <td>Male</td>\n",
       "      <td>Yes</td>\n",
       "      <td>Yes</td>\n",
       "      <td>5417.000000</td>\n",
       "      <td>4196.0</td>\n",
       "      <td>267.0</td>\n",
       "      <td>Y</td>\n",
       "      <td>9613.000000</td>\n",
       "    </tr>\n",
       "  </tbody>\n",
       "</table>\n",
       "</div>"
      ],
      "text/plain": [
       "         gender status employed        income  extraIncome  expenses buy  \\\n",
       "id                                                                         \n",
       "LP001003   Male    yes       No   4583.000000       1508.0    1111.0   N   \n",
       "LP001004   Male    Yes      Yes   3000.000000          0.0      66.0   Y   \n",
       "LP001005   Male    Yes       No   2583.000000       2358.0     120.0   Y   \n",
       "LP001006   Male     No       No  20326.888889          0.0     141.0   Y   \n",
       "LP001007   Male    Yes      Yes   5417.000000       4196.0     267.0   Y   \n",
       "\n",
       "          total_income  \n",
       "id                      \n",
       "LP001003   6091.000000  \n",
       "LP001004   3000.000000  \n",
       "LP001005   4941.000000  \n",
       "LP001006  20326.888889  \n",
       "LP001007   9613.000000  "
      ]
     },
     "execution_count": 287,
     "metadata": {},
     "output_type": "execute_result"
    }
   ],
   "source": [
    "df[\"total_income\"]=df[\"income\"]+df[\"extraIncome\"]\n",
    "df.head()\n"
   ]
  },
  {
   "cell_type": "code",
   "execution_count": 288,
   "metadata": {},
   "outputs": [
    {
     "data": {
      "text/html": [
       "<div>\n",
       "<style scoped>\n",
       "    .dataframe tbody tr th:only-of-type {\n",
       "        vertical-align: middle;\n",
       "    }\n",
       "\n",
       "    .dataframe tbody tr th {\n",
       "        vertical-align: top;\n",
       "    }\n",
       "\n",
       "    .dataframe thead th {\n",
       "        text-align: right;\n",
       "    }\n",
       "</style>\n",
       "<table border=\"1\" class=\"dataframe\">\n",
       "  <thead>\n",
       "    <tr style=\"text-align: right;\">\n",
       "      <th></th>\n",
       "      <th>gender</th>\n",
       "      <th>status</th>\n",
       "      <th>employed</th>\n",
       "      <th>income</th>\n",
       "      <th>extraIncome</th>\n",
       "      <th>expenses</th>\n",
       "      <th>buy</th>\n",
       "      <th>total_income</th>\n",
       "    </tr>\n",
       "    <tr>\n",
       "      <th>id</th>\n",
       "      <th></th>\n",
       "      <th></th>\n",
       "      <th></th>\n",
       "      <th></th>\n",
       "      <th></th>\n",
       "      <th></th>\n",
       "      <th></th>\n",
       "      <th></th>\n",
       "    </tr>\n",
       "  </thead>\n",
       "  <tbody>\n",
       "    <tr>\n",
       "      <th>LP001013</th>\n",
       "      <td>Male</td>\n",
       "      <td>yes</td>\n",
       "      <td>Yes</td>\n",
       "      <td>2500.0</td>\n",
       "      <td>1840.0</td>\n",
       "      <td>109.0</td>\n",
       "      <td>Y</td>\n",
       "      <td>4340.0</td>\n",
       "    </tr>\n",
       "    <tr>\n",
       "      <th>LP001027</th>\n",
       "      <td>Male</td>\n",
       "      <td>yes</td>\n",
       "      <td>Yes</td>\n",
       "      <td>564.0</td>\n",
       "      <td>6792.0</td>\n",
       "      <td>109.0</td>\n",
       "      <td>Y</td>\n",
       "      <td>7356.0</td>\n",
       "    </tr>\n",
       "  </tbody>\n",
       "</table>\n",
       "</div>"
      ],
      "text/plain": [
       "         gender status employed  income  extraIncome  expenses buy  \\\n",
       "id                                                                   \n",
       "LP001013   Male    yes      Yes  2500.0       1840.0     109.0   Y   \n",
       "LP001027   Male    yes      Yes   564.0       6792.0     109.0   Y   \n",
       "\n",
       "          total_income  \n",
       "id                      \n",
       "LP001013        4340.0  \n",
       "LP001027        7356.0  "
      ]
     },
     "execution_count": 288,
     "metadata": {},
     "output_type": "execute_result"
    }
   ],
   "source": [
    "df[(df[\"status\"] == \"yes\") & (df[\"employed\"] == \"Yes\")]\n"
   ]
  },
  {
   "cell_type": "code",
   "execution_count": 289,
   "metadata": {},
   "outputs": [
    {
     "data": {
      "text/html": [
       "<div>\n",
       "<style scoped>\n",
       "    .dataframe tbody tr th:only-of-type {\n",
       "        vertical-align: middle;\n",
       "    }\n",
       "\n",
       "    .dataframe tbody tr th {\n",
       "        vertical-align: top;\n",
       "    }\n",
       "\n",
       "    .dataframe thead th {\n",
       "        text-align: right;\n",
       "    }\n",
       "</style>\n",
       "<table border=\"1\" class=\"dataframe\">\n",
       "  <thead>\n",
       "    <tr style=\"text-align: right;\">\n",
       "      <th></th>\n",
       "      <th>gender</th>\n",
       "      <th>status</th>\n",
       "      <th>employed</th>\n",
       "      <th>income</th>\n",
       "      <th>extraIncome</th>\n",
       "      <th>expenses</th>\n",
       "      <th>buy</th>\n",
       "      <th>total_income</th>\n",
       "    </tr>\n",
       "    <tr>\n",
       "      <th>id</th>\n",
       "      <th></th>\n",
       "      <th></th>\n",
       "      <th></th>\n",
       "      <th></th>\n",
       "      <th></th>\n",
       "      <th></th>\n",
       "      <th></th>\n",
       "      <th></th>\n",
       "    </tr>\n",
       "  </thead>\n",
       "  <tbody>\n",
       "    <tr>\n",
       "      <th>LP001017</th>\n",
       "      <td>Male</td>\n",
       "      <td>yes</td>\n",
       "      <td>No</td>\n",
       "      <td>4583.0</td>\n",
       "      <td>99905.0</td>\n",
       "      <td>128.0</td>\n",
       "      <td>N</td>\n",
       "      <td>104488.0</td>\n",
       "    </tr>\n",
       "    <tr>\n",
       "      <th>LP001020</th>\n",
       "      <td>Male</td>\n",
       "      <td>Yes</td>\n",
       "      <td>No</td>\n",
       "      <td>34332.0</td>\n",
       "      <td>56543.0</td>\n",
       "      <td>141.0</td>\n",
       "      <td>N</td>\n",
       "      <td>90875.0</td>\n",
       "    </tr>\n",
       "    <tr>\n",
       "      <th>LP001025</th>\n",
       "      <td>Male</td>\n",
       "      <td>Yes</td>\n",
       "      <td>Yes</td>\n",
       "      <td>56334.0</td>\n",
       "      <td>3467.0</td>\n",
       "      <td>349.0</td>\n",
       "      <td>N</td>\n",
       "      <td>59801.0</td>\n",
       "    </tr>\n",
       "    <tr>\n",
       "      <th>LP0010068</th>\n",
       "      <td>Male</td>\n",
       "      <td>Yes</td>\n",
       "      <td>No</td>\n",
       "      <td>2232.0</td>\n",
       "      <td>56543.0</td>\n",
       "      <td>141.0</td>\n",
       "      <td>N</td>\n",
       "      <td>58775.0</td>\n",
       "    </tr>\n",
       "    <tr>\n",
       "      <th>LP001021</th>\n",
       "      <td>Male</td>\n",
       "      <td>No</td>\n",
       "      <td>Yes</td>\n",
       "      <td>45343.0</td>\n",
       "      <td>4196.0</td>\n",
       "      <td>267.0</td>\n",
       "      <td>Y</td>\n",
       "      <td>49539.0</td>\n",
       "    </tr>\n",
       "  </tbody>\n",
       "</table>\n",
       "</div>"
      ],
      "text/plain": [
       "          gender status employed   income  extraIncome  expenses buy  \\\n",
       "id                                                                     \n",
       "LP001017    Male    yes       No   4583.0      99905.0     128.0   N   \n",
       "LP001020    Male    Yes       No  34332.0      56543.0     141.0   N   \n",
       "LP001025    Male    Yes      Yes  56334.0       3467.0     349.0   N   \n",
       "LP0010068   Male    Yes       No   2232.0      56543.0     141.0   N   \n",
       "LP001021    Male     No      Yes  45343.0       4196.0     267.0   Y   \n",
       "\n",
       "           total_income  \n",
       "id                       \n",
       "LP001017       104488.0  \n",
       "LP001020        90875.0  \n",
       "LP001025        59801.0  \n",
       "LP0010068       58775.0  \n",
       "LP001021        49539.0  "
      ]
     },
     "execution_count": 289,
     "metadata": {},
     "output_type": "execute_result"
    }
   ],
   "source": [
    "df= df.sort_values(by=\"total_income\",ascending=False)\n",
    "df.head()"
   ]
  },
  {
   "cell_type": "code",
   "execution_count": 290,
   "metadata": {},
   "outputs": [
    {
     "data": {
      "text/html": [
       "<div>\n",
       "<style scoped>\n",
       "    .dataframe tbody tr th:only-of-type {\n",
       "        vertical-align: middle;\n",
       "    }\n",
       "\n",
       "    .dataframe tbody tr th {\n",
       "        vertical-align: top;\n",
       "    }\n",
       "\n",
       "    .dataframe thead th {\n",
       "        text-align: right;\n",
       "    }\n",
       "</style>\n",
       "<table border=\"1\" class=\"dataframe\">\n",
       "  <thead>\n",
       "    <tr style=\"text-align: right;\">\n",
       "      <th></th>\n",
       "      <th>income</th>\n",
       "      <th>extraIncome</th>\n",
       "      <th>expenses</th>\n",
       "      <th>total_income</th>\n",
       "    </tr>\n",
       "  </thead>\n",
       "  <tbody>\n",
       "    <tr>\n",
       "      <th>income</th>\n",
       "      <td>1.000000</td>\n",
       "      <td>-0.015509</td>\n",
       "      <td>-0.105822</td>\n",
       "      <td>0.567633</td>\n",
       "    </tr>\n",
       "    <tr>\n",
       "      <th>extraIncome</th>\n",
       "      <td>-0.015509</td>\n",
       "      <td>1.000000</td>\n",
       "      <td>-0.091138</td>\n",
       "      <td>0.814379</td>\n",
       "    </tr>\n",
       "    <tr>\n",
       "      <th>expenses</th>\n",
       "      <td>-0.105822</td>\n",
       "      <td>-0.091138</td>\n",
       "      <td>1.000000</td>\n",
       "      <td>-0.136460</td>\n",
       "    </tr>\n",
       "    <tr>\n",
       "      <th>total_income</th>\n",
       "      <td>0.567633</td>\n",
       "      <td>0.814379</td>\n",
       "      <td>-0.136460</td>\n",
       "      <td>1.000000</td>\n",
       "    </tr>\n",
       "  </tbody>\n",
       "</table>\n",
       "</div>"
      ],
      "text/plain": [
       "                income  extraIncome  expenses  total_income\n",
       "income        1.000000    -0.015509 -0.105822      0.567633\n",
       "extraIncome  -0.015509     1.000000 -0.091138      0.814379\n",
       "expenses     -0.105822    -0.091138  1.000000     -0.136460\n",
       "total_income  0.567633     0.814379 -0.136460      1.000000"
      ]
     },
     "execution_count": 290,
     "metadata": {},
     "output_type": "execute_result"
    }
   ],
   "source": [
    "corr=df.corr()#***********************\n",
    "corr"
   ]
  },
  {
   "cell_type": "code",
   "execution_count": 298,
   "metadata": {},
   "outputs": [
    {
     "data": {
      "text/plain": [
       "<AxesSubplot:>"
      ]
     },
     "execution_count": 298,
     "metadata": {},
     "output_type": "execute_result"
    },
    {
     "data": {
      "image/png": "[encoded data removed]",
      "text/plain": [
       "<Figure size 432x288 with 2 Axes>"
      ]
     },
     "metadata": {
      "needs_background": "light"
     },
     "output_type": "display_data"
    }
   ],
   "source": [
    "import seaborn as sns \n",
    "sns.heatmap(corr,annot=True,cmap=\"coolwarm\")"
   ]
  },
  {
   "cell_type": "code",
   "execution_count": 299,
   "metadata": {},
   "outputs": [
    {
     "data": {
      "text/plain": [
       "income          1.563683\n",
       "extraIncome     3.213918\n",
       "expenses        3.973562\n",
       "total_income    1.783664\n",
       "dtype: float64"
      ]
     },
     "execution_count": 299,
     "metadata": {},
     "output_type": "execute_result"
    }
   ],
   "source": [
    "df.skew()\n",
    "#****************"
   ]
  },
  {
   "cell_type": "code",
   "execution_count": 300,
   "metadata": {},
   "outputs": [
    {
     "data": {
      "text/plain": [
       "<seaborn.axisgrid.PairGrid at 0x20af9c25640>"
      ]
     },
     "execution_count": 300,
     "metadata": {},
     "output_type": "execute_result"
    },
    {
     "data": {
      "image/png": "[encoded data removed]",
      "text/plain": [
       "<Figure size 720x720 with 20 Axes>"
      ]
     },
     "metadata": {
      "needs_background": "light"
     },
     "output_type": "display_data"
    }
   ],
   "source": [
    "sns.pairplot(df)"
   ]
  },
  {
   "cell_type": "code",
   "execution_count": 301,
   "metadata": {},
   "outputs": [
    {
     "data": {
      "text/plain": [
       "<AxesSubplot:>"
      ]
     },
     "execution_count": 301,
     "metadata": {},
     "output_type": "execute_result"
    },
    {
     "data": {
      "image/png": "[encoded data removed]",
      "text/plain": [
       "<Figure size 432x288 with 1 Axes>"
      ]
     },
     "metadata": {
      "needs_background": "light"
     },
     "output_type": "display_data"
    }
   ],
   "source": [
    "df[\"buy\"].hist()"
   ]
  },
  {
   "cell_type": "code",
   "execution_count": 302,
   "metadata": {},
   "outputs": [
    {
     "data": {
      "text/html": [
       "<div>\n",
       "<style scoped>\n",
       "    .dataframe tbody tr th:only-of-type {\n",
       "        vertical-align: middle;\n",
       "    }\n",
       "\n",
       "    .dataframe tbody tr th {\n",
       "        vertical-align: top;\n",
       "    }\n",
       "\n",
       "    .dataframe thead th {\n",
       "        text-align: right;\n",
       "    }\n",
       "</style>\n",
       "<table border=\"1\" class=\"dataframe\">\n",
       "  <thead>\n",
       "    <tr style=\"text-align: right;\">\n",
       "      <th></th>\n",
       "      <th>gender</th>\n",
       "      <th>status</th>\n",
       "      <th>employed</th>\n",
       "      <th>income</th>\n",
       "      <th>extraIncome</th>\n",
       "      <th>expenses</th>\n",
       "      <th>buy</th>\n",
       "      <th>total_income</th>\n",
       "    </tr>\n",
       "    <tr>\n",
       "      <th>id</th>\n",
       "      <th></th>\n",
       "      <th></th>\n",
       "      <th></th>\n",
       "      <th></th>\n",
       "      <th></th>\n",
       "      <th></th>\n",
       "      <th></th>\n",
       "      <th></th>\n",
       "    </tr>\n",
       "  </thead>\n",
       "  <tbody>\n",
       "    <tr>\n",
       "      <th>LP001017</th>\n",
       "      <td>Male</td>\n",
       "      <td>yes</td>\n",
       "      <td>No</td>\n",
       "      <td>4583.0</td>\n",
       "      <td>99905.0</td>\n",
       "      <td>128.0</td>\n",
       "      <td>N</td>\n",
       "      <td>104488.0</td>\n",
       "    </tr>\n",
       "    <tr>\n",
       "      <th>LP001020</th>\n",
       "      <td>Male</td>\n",
       "      <td>Yes</td>\n",
       "      <td>No</td>\n",
       "      <td>34332.0</td>\n",
       "      <td>56543.0</td>\n",
       "      <td>141.0</td>\n",
       "      <td>N</td>\n",
       "      <td>90875.0</td>\n",
       "    </tr>\n",
       "    <tr>\n",
       "      <th>LP001025</th>\n",
       "      <td>Male</td>\n",
       "      <td>Yes</td>\n",
       "      <td>Yes</td>\n",
       "      <td>56334.0</td>\n",
       "      <td>3467.0</td>\n",
       "      <td>349.0</td>\n",
       "      <td>N</td>\n",
       "      <td>59801.0</td>\n",
       "    </tr>\n",
       "    <tr>\n",
       "      <th>LP0010068</th>\n",
       "      <td>Male</td>\n",
       "      <td>Yes</td>\n",
       "      <td>No</td>\n",
       "      <td>2232.0</td>\n",
       "      <td>56543.0</td>\n",
       "      <td>141.0</td>\n",
       "      <td>N</td>\n",
       "      <td>58775.0</td>\n",
       "    </tr>\n",
       "    <tr>\n",
       "      <th>LP001021</th>\n",
       "      <td>Male</td>\n",
       "      <td>No</td>\n",
       "      <td>Yes</td>\n",
       "      <td>45343.0</td>\n",
       "      <td>4196.0</td>\n",
       "      <td>267.0</td>\n",
       "      <td>Y</td>\n",
       "      <td>49539.0</td>\n",
       "    </tr>\n",
       "  </tbody>\n",
       "</table>\n",
       "</div>"
      ],
      "text/plain": [
       "          gender status employed   income  extraIncome  expenses buy  \\\n",
       "id                                                                     \n",
       "LP001017    Male    yes       No   4583.0      99905.0     128.0   N   \n",
       "LP001020    Male    Yes       No  34332.0      56543.0     141.0   N   \n",
       "LP001025    Male    Yes      Yes  56334.0       3467.0     349.0   N   \n",
       "LP0010068   Male    Yes       No   2232.0      56543.0     141.0   N   \n",
       "LP001021    Male     No      Yes  45343.0       4196.0     267.0   Y   \n",
       "\n",
       "           total_income  \n",
       "id                       \n",
       "LP001017       104488.0  \n",
       "LP001020        90875.0  \n",
       "LP001025        59801.0  \n",
       "LP0010068       58775.0  \n",
       "LP001021        49539.0  "
      ]
     },
     "execution_count": 302,
     "metadata": {},
     "output_type": "execute_result"
    }
   ],
   "source": [
    "df.head()"
   ]
  },
  {
   "cell_type": "code",
   "execution_count": 303,
   "metadata": {},
   "outputs": [
    {
     "data": {
      "text/plain": [
       "<AxesSubplot:xlabel='id'>"
      ]
     },
     "execution_count": 303,
     "metadata": {},
     "output_type": "execute_result"
    },
    {
     "data": {
      "image/png": "[encoded data removed]",
      "text/plain": [
       "<Figure size 432x288 with 1 Axes>"
      ]
     },
     "metadata": {
      "needs_background": "light"
     },
     "output_type": "display_data"
    }
   ],
   "source": [
    "df.plot()"
   ]
  },
  {
   "cell_type": "code",
   "execution_count": 304,
   "metadata": {},
   "outputs": [
    {
     "data": {
      "text/plain": [
       "<AxesSubplot:>"
      ]
     },
     "execution_count": 304,
     "metadata": {},
     "output_type": "execute_result"
    },
    {
     "data": {
      "image/png": "[encoded data removed]",
      "text/plain": [
       "<Figure size 432x288 with 1 Axes>"
      ]
     },
     "metadata": {
      "needs_background": "light"
     },
     "output_type": "display_data"
    }
   ],
   "source": [
    "df[\"total_income\"].plot(kind=\"box\")"
   ]
  },
  {
   "cell_type": "code",
   "execution_count": 305,
   "metadata": {},
   "outputs": [
    {
     "name": "stdout",
     "output_type": "stream",
     "text": [
      "-22807.833333333336 46207.722222222226\n"
     ]
    }
   ],
   "source": [
    "q1=df[\"income\"].quantile(0.25)\n",
    "q3=df[\"income\"].quantile(0.75)\n",
    "iqr=q3-q1\n",
    "upper=q3+1.5*iqr\n",
    "lower=q1-1.5*iqr\n",
    "print(lower,upper)"
   ]
  },
  {
   "cell_type": "code",
   "execution_count": 306,
   "metadata": {},
   "outputs": [
    {
     "data": {
      "text/html": [
       "<div>\n",
       "<style scoped>\n",
       "    .dataframe tbody tr th:only-of-type {\n",
       "        vertical-align: middle;\n",
       "    }\n",
       "\n",
       "    .dataframe tbody tr th {\n",
       "        vertical-align: top;\n",
       "    }\n",
       "\n",
       "    .dataframe thead th {\n",
       "        text-align: right;\n",
       "    }\n",
       "</style>\n",
       "<table border=\"1\" class=\"dataframe\">\n",
       "  <thead>\n",
       "    <tr style=\"text-align: right;\">\n",
       "      <th></th>\n",
       "      <th>gender</th>\n",
       "      <th>status</th>\n",
       "      <th>employed</th>\n",
       "      <th>income</th>\n",
       "      <th>extraIncome</th>\n",
       "      <th>expenses</th>\n",
       "      <th>buy</th>\n",
       "      <th>total_income</th>\n",
       "    </tr>\n",
       "    <tr>\n",
       "      <th>id</th>\n",
       "      <th></th>\n",
       "      <th></th>\n",
       "      <th></th>\n",
       "      <th></th>\n",
       "      <th></th>\n",
       "      <th></th>\n",
       "      <th></th>\n",
       "      <th></th>\n",
       "    </tr>\n",
       "  </thead>\n",
       "  <tbody>\n",
       "    <tr>\n",
       "      <th>LP001025</th>\n",
       "      <td>Male</td>\n",
       "      <td>Yes</td>\n",
       "      <td>Yes</td>\n",
       "      <td>56334.0</td>\n",
       "      <td>3467.0</td>\n",
       "      <td>349.0</td>\n",
       "      <td>N</td>\n",
       "      <td>59801.0</td>\n",
       "    </tr>\n",
       "  </tbody>\n",
       "</table>\n",
       "</div>"
      ],
      "text/plain": [
       "         gender status employed   income  extraIncome  expenses buy  \\\n",
       "id                                                                    \n",
       "LP001025   Male    Yes      Yes  56334.0       3467.0     349.0   N   \n",
       "\n",
       "          total_income  \n",
       "id                      \n",
       "LP001025       59801.0  "
      ]
     },
     "execution_count": 306,
     "metadata": {},
     "output_type": "execute_result"
    }
   ],
   "source": [
    "df[~df[\"income\"].between(lower,upper)]# all the outliers"
   ]
  },
  {
   "cell_type": "code",
   "execution_count": 307,
   "metadata": {},
   "outputs": [
    {
     "data": {
      "text/plain": [
       "<AxesSubplot:xlabel='employed,buy'>"
      ]
     },
     "execution_count": 307,
     "metadata": {},
     "output_type": "execute_result"
    },
    {
     "data": {
      "image/png": "[encoded data removed]",
      "text/plain": [
       "<Figure size 432x288 with 1 Axes>"
      ]
     },
     "metadata": {
      "needs_background": "light"
     },
     "output_type": "display_data"
    }
   ],
   "source": [
    "x=df.groupby([\"employed\",\"buy\"]).mean()[\"total_income\"]\n",
    "x.plot(kind=\"bar\")#the total income for not employed and didnt buy is the highest"
   ]
  },
  {
   "cell_type": "code",
   "execution_count": 308,
   "metadata": {},
   "outputs": [
    {
     "data": {
      "text/html": [
       "<div>\n",
       "<style scoped>\n",
       "    .dataframe tbody tr th:only-of-type {\n",
       "        vertical-align: middle;\n",
       "    }\n",
       "\n",
       "    .dataframe tbody tr th {\n",
       "        vertical-align: top;\n",
       "    }\n",
       "\n",
       "    .dataframe thead th {\n",
       "        text-align: right;\n",
       "    }\n",
       "</style>\n",
       "<table border=\"1\" class=\"dataframe\">\n",
       "  <thead>\n",
       "    <tr style=\"text-align: right;\">\n",
       "      <th></th>\n",
       "      <th>gender</th>\n",
       "      <th>status</th>\n",
       "      <th>employed</th>\n",
       "      <th>income</th>\n",
       "      <th>extraIncome</th>\n",
       "      <th>expenses</th>\n",
       "      <th>buy</th>\n",
       "      <th>total_income</th>\n",
       "    </tr>\n",
       "    <tr>\n",
       "      <th>id</th>\n",
       "      <th></th>\n",
       "      <th></th>\n",
       "      <th></th>\n",
       "      <th></th>\n",
       "      <th></th>\n",
       "      <th></th>\n",
       "      <th></th>\n",
       "      <th></th>\n",
       "    </tr>\n",
       "  </thead>\n",
       "  <tbody>\n",
       "    <tr>\n",
       "      <th>LP001017</th>\n",
       "      <td>Male</td>\n",
       "      <td>yes</td>\n",
       "      <td>No</td>\n",
       "      <td>4583.0</td>\n",
       "      <td>99905.0</td>\n",
       "      <td>128.0</td>\n",
       "      <td>N</td>\n",
       "      <td>104488.0</td>\n",
       "    </tr>\n",
       "    <tr>\n",
       "      <th>LP001020</th>\n",
       "      <td>Male</td>\n",
       "      <td>Yes</td>\n",
       "      <td>No</td>\n",
       "      <td>34332.0</td>\n",
       "      <td>56543.0</td>\n",
       "      <td>141.0</td>\n",
       "      <td>N</td>\n",
       "      <td>90875.0</td>\n",
       "    </tr>\n",
       "    <tr>\n",
       "      <th>LP001025</th>\n",
       "      <td>Male</td>\n",
       "      <td>Yes</td>\n",
       "      <td>Yes</td>\n",
       "      <td>56334.0</td>\n",
       "      <td>3467.0</td>\n",
       "      <td>349.0</td>\n",
       "      <td>N</td>\n",
       "      <td>59801.0</td>\n",
       "    </tr>\n",
       "    <tr>\n",
       "      <th>LP0010068</th>\n",
       "      <td>Male</td>\n",
       "      <td>Yes</td>\n",
       "      <td>No</td>\n",
       "      <td>2232.0</td>\n",
       "      <td>56543.0</td>\n",
       "      <td>141.0</td>\n",
       "      <td>N</td>\n",
       "      <td>58775.0</td>\n",
       "    </tr>\n",
       "    <tr>\n",
       "      <th>LP001021</th>\n",
       "      <td>Male</td>\n",
       "      <td>No</td>\n",
       "      <td>Yes</td>\n",
       "      <td>45343.0</td>\n",
       "      <td>4196.0</td>\n",
       "      <td>267.0</td>\n",
       "      <td>Y</td>\n",
       "      <td>49539.0</td>\n",
       "    </tr>\n",
       "  </tbody>\n",
       "</table>\n",
       "</div>"
      ],
      "text/plain": [
       "          gender status employed   income  extraIncome  expenses buy  \\\n",
       "id                                                                     \n",
       "LP001017    Male    yes       No   4583.0      99905.0     128.0   N   \n",
       "LP001020    Male    Yes       No  34332.0      56543.0     141.0   N   \n",
       "LP001025    Male    Yes      Yes  56334.0       3467.0     349.0   N   \n",
       "LP0010068   Male    Yes       No   2232.0      56543.0     141.0   N   \n",
       "LP001021    Male     No      Yes  45343.0       4196.0     267.0   Y   \n",
       "\n",
       "           total_income  \n",
       "id                       \n",
       "LP001017       104488.0  \n",
       "LP001020        90875.0  \n",
       "LP001025        59801.0  \n",
       "LP0010068       58775.0  \n",
       "LP001021        49539.0  "
      ]
     },
     "execution_count": 308,
     "metadata": {},
     "output_type": "execute_result"
    }
   ],
   "source": [
    "df.head()"
   ]
  },
  {
   "cell_type": "markdown",
   "metadata": {},
   "source": [
    "# unbalanced data"
   ]
  },
  {
   "cell_type": "code",
   "execution_count": 309,
   "metadata": {},
   "outputs": [
    {
     "data": {
      "text/plain": [
       "No     19\n",
       "Yes    11\n",
       "Name: employed, dtype: int64"
      ]
     },
     "execution_count": 309,
     "metadata": {},
     "output_type": "execute_result"
    }
   ],
   "source": [
    "pd.value_counts(df[\"employed\"])"
   ]
  },
  {
   "cell_type": "code",
   "execution_count": 310,
   "metadata": {},
   "outputs": [
    {
     "data": {
      "text/plain": [
       "(19, 8)"
      ]
     },
     "execution_count": 310,
     "metadata": {},
     "output_type": "execute_result"
    }
   ],
   "source": [
    "from sklearn.utils import resample \n",
    "upsampled_df =resample(df[df.employed==\"Yes\"],n_samples=len(df[df.employed==\"No\"]),replace=True,random_state=52)\n",
    "upsampled_df.shape"
   ]
  },
  {
   "cell_type": "code",
   "execution_count": 311,
   "metadata": {},
   "outputs": [
    {
     "data": {
      "text/plain": [
       "No     19\n",
       "Yes    19\n",
       "Name: employed, dtype: int64"
      ]
     },
     "execution_count": 311,
     "metadata": {},
     "output_type": "execute_result"
    }
   ],
   "source": [
    "x=df[df[\"employed\"]==\"No\"]\n",
    "df=pd.concat([x,upsampled_df])\n",
    "pd.value_counts(df[\"employed\"])"
   ]
  },
  {
   "cell_type": "markdown",
   "metadata": {},
   "source": [
    "# PCA/binning / encoding / "
   ]
  },
  {
   "cell_type": "code",
   "execution_count": 312,
   "metadata": {},
   "outputs": [
    {
     "data": {
      "text/html": [
       "<div>\n",
       "<style scoped>\n",
       "    .dataframe tbody tr th:only-of-type {\n",
       "        vertical-align: middle;\n",
       "    }\n",
       "\n",
       "    .dataframe tbody tr th {\n",
       "        vertical-align: top;\n",
       "    }\n",
       "\n",
       "    .dataframe thead th {\n",
       "        text-align: right;\n",
       "    }\n",
       "</style>\n",
       "<table border=\"1\" class=\"dataframe\">\n",
       "  <thead>\n",
       "    <tr style=\"text-align: right;\">\n",
       "      <th></th>\n",
       "      <th>gender</th>\n",
       "      <th>status</th>\n",
       "      <th>employed</th>\n",
       "      <th>income</th>\n",
       "      <th>extraIncome</th>\n",
       "      <th>expenses</th>\n",
       "      <th>buy</th>\n",
       "      <th>total_income</th>\n",
       "      <th>income_category</th>\n",
       "    </tr>\n",
       "    <tr>\n",
       "      <th>id</th>\n",
       "      <th></th>\n",
       "      <th></th>\n",
       "      <th></th>\n",
       "      <th></th>\n",
       "      <th></th>\n",
       "      <th></th>\n",
       "      <th></th>\n",
       "      <th></th>\n",
       "      <th></th>\n",
       "    </tr>\n",
       "  </thead>\n",
       "  <tbody>\n",
       "    <tr>\n",
       "      <th>LP001017</th>\n",
       "      <td>Male</td>\n",
       "      <td>yes</td>\n",
       "      <td>No</td>\n",
       "      <td>4583.000000</td>\n",
       "      <td>99905.0</td>\n",
       "      <td>128.0</td>\n",
       "      <td>N</td>\n",
       "      <td>104488.000000</td>\n",
       "      <td>high</td>\n",
       "    </tr>\n",
       "    <tr>\n",
       "      <th>LP001020</th>\n",
       "      <td>Male</td>\n",
       "      <td>Yes</td>\n",
       "      <td>No</td>\n",
       "      <td>34332.000000</td>\n",
       "      <td>56543.0</td>\n",
       "      <td>141.0</td>\n",
       "      <td>N</td>\n",
       "      <td>90875.000000</td>\n",
       "      <td>high</td>\n",
       "    </tr>\n",
       "    <tr>\n",
       "      <th>LP0010068</th>\n",
       "      <td>Male</td>\n",
       "      <td>Yes</td>\n",
       "      <td>No</td>\n",
       "      <td>2232.000000</td>\n",
       "      <td>56543.0</td>\n",
       "      <td>141.0</td>\n",
       "      <td>N</td>\n",
       "      <td>58775.000000</td>\n",
       "      <td>mid</td>\n",
       "    </tr>\n",
       "    <tr>\n",
       "      <th>LP0010069</th>\n",
       "      <td>Male</td>\n",
       "      <td>Yes</td>\n",
       "      <td>No</td>\n",
       "      <td>32232.000000</td>\n",
       "      <td>10968.0</td>\n",
       "      <td>349.0</td>\n",
       "      <td>N</td>\n",
       "      <td>43200.000000</td>\n",
       "      <td>mid</td>\n",
       "    </tr>\n",
       "    <tr>\n",
       "      <th>LP001011</th>\n",
       "      <td>Male</td>\n",
       "      <td>Yes</td>\n",
       "      <td>No</td>\n",
       "      <td>20326.888889</td>\n",
       "      <td>10968.0</td>\n",
       "      <td>349.0</td>\n",
       "      <td>N</td>\n",
       "      <td>31294.888889</td>\n",
       "      <td>mid</td>\n",
       "    </tr>\n",
       "  </tbody>\n",
       "</table>\n",
       "</div>"
      ],
      "text/plain": [
       "          gender status employed        income  extraIncome  expenses buy  \\\n",
       "id                                                                          \n",
       "LP001017    Male    yes       No   4583.000000      99905.0     128.0   N   \n",
       "LP001020    Male    Yes       No  34332.000000      56543.0     141.0   N   \n",
       "LP0010068   Male    Yes       No   2232.000000      56543.0     141.0   N   \n",
       "LP0010069   Male    Yes       No  32232.000000      10968.0     349.0   N   \n",
       "LP001011    Male    Yes       No  20326.888889      10968.0     349.0   N   \n",
       "\n",
       "            total_income income_category  \n",
       "id                                        \n",
       "LP001017   104488.000000            high  \n",
       "LP001020    90875.000000            high  \n",
       "LP0010068   58775.000000             mid  \n",
       "LP0010069   43200.000000             mid  \n",
       "LP001011    31294.888889             mid  "
      ]
     },
     "execution_count": 312,
     "metadata": {},
     "output_type": "execute_result"
    }
   ],
   "source": [
    " #binning \n",
    "import pandas as pd\n",
    "\n",
    "# Define the income categories and corresponding bin boundaries\n",
    "income_bins = [0, 30000, 60000, float('inf')]\n",
    "income_labels = ['low', 'mid', 'high']\n",
    "\n",
    "# Apply the categorization to the 'income' column\n",
    "df['income_category'] = pd.cut(df['total_income'], bins=income_bins, labels=income_labels)\n",
    "df.head()"
   ]
  },
  {
   "cell_type": "code",
   "execution_count": 313,
   "metadata": {},
   "outputs": [
    {
     "data": {
      "text/plain": [
       "income_category\n",
       "low     26\n",
       "mid     10\n",
       "high     2\n",
       "dtype: int64"
      ]
     },
     "execution_count": 313,
     "metadata": {},
     "output_type": "execute_result"
    }
   ],
   "source": [
    "df.value_counts(df[\"income_category\"])"
   ]
  },
  {
   "cell_type": "code",
   "execution_count": 315,
   "metadata": {},
   "outputs": [],
   "source": [
    "# ordenal encoding \n",
    "from sklearn.preprocessing import OrdinalEncoder\n",
    "\n",
    "# Create an instance of OrdinalEncoder\n",
    "encoder = OrdinalEncoder(categories=[[\"N\",\"Y\"]])\n",
    "\n",
    "# Fit and transform the selected columns\n",
    "df[\"buy\"] = encoder.fit_transform(df[[\"buy\"]])#[[]]\n",
    "\n"
   ]
  },
  {
   "cell_type": "code",
   "execution_count": 320,
   "metadata": {},
   "outputs": [
    {
     "data": {
      "text/plain": [
       "1.0    24\n",
       "0.0    14\n",
       "Name: buy, dtype: int64"
      ]
     },
     "execution_count": 320,
     "metadata": {},
     "output_type": "execute_result"
    }
   ],
   "source": [
    "pd.value_counts(df[\"buy\"])"
   ]
  },
  {
   "cell_type": "code",
   "execution_count": 321,
   "metadata": {},
   "outputs": [
    {
     "data": {
      "text/html": [
       "<div>\n",
       "<style scoped>\n",
       "    .dataframe tbody tr th:only-of-type {\n",
       "        vertical-align: middle;\n",
       "    }\n",
       "\n",
       "    .dataframe tbody tr th {\n",
       "        vertical-align: top;\n",
       "    }\n",
       "\n",
       "    .dataframe thead th {\n",
       "        text-align: right;\n",
       "    }\n",
       "</style>\n",
       "<table border=\"1\" class=\"dataframe\">\n",
       "  <thead>\n",
       "    <tr style=\"text-align: right;\">\n",
       "      <th></th>\n",
       "      <th>income</th>\n",
       "      <th>extraIncome</th>\n",
       "      <th>expenses</th>\n",
       "      <th>buy</th>\n",
       "      <th>total_income</th>\n",
       "      <th>gender_Male</th>\n",
       "      <th>status_No</th>\n",
       "      <th>status_Yes</th>\n",
       "      <th>status_yes</th>\n",
       "      <th>employed_No</th>\n",
       "      <th>employed_Yes</th>\n",
       "      <th>income_category_low</th>\n",
       "      <th>income_category_mid</th>\n",
       "      <th>income_category_high</th>\n",
       "    </tr>\n",
       "    <tr>\n",
       "      <th>id</th>\n",
       "      <th></th>\n",
       "      <th></th>\n",
       "      <th></th>\n",
       "      <th></th>\n",
       "      <th></th>\n",
       "      <th></th>\n",
       "      <th></th>\n",
       "      <th></th>\n",
       "      <th></th>\n",
       "      <th></th>\n",
       "      <th></th>\n",
       "      <th></th>\n",
       "      <th></th>\n",
       "      <th></th>\n",
       "    </tr>\n",
       "  </thead>\n",
       "  <tbody>\n",
       "    <tr>\n",
       "      <th>LP001017</th>\n",
       "      <td>4583.000000</td>\n",
       "      <td>99905.0</td>\n",
       "      <td>128.0</td>\n",
       "      <td>0.0</td>\n",
       "      <td>104488.000000</td>\n",
       "      <td>1</td>\n",
       "      <td>0</td>\n",
       "      <td>0</td>\n",
       "      <td>1</td>\n",
       "      <td>1</td>\n",
       "      <td>0</td>\n",
       "      <td>0</td>\n",
       "      <td>0</td>\n",
       "      <td>1</td>\n",
       "    </tr>\n",
       "    <tr>\n",
       "      <th>LP001020</th>\n",
       "      <td>34332.000000</td>\n",
       "      <td>56543.0</td>\n",
       "      <td>141.0</td>\n",
       "      <td>0.0</td>\n",
       "      <td>90875.000000</td>\n",
       "      <td>1</td>\n",
       "      <td>0</td>\n",
       "      <td>1</td>\n",
       "      <td>0</td>\n",
       "      <td>1</td>\n",
       "      <td>0</td>\n",
       "      <td>0</td>\n",
       "      <td>0</td>\n",
       "      <td>1</td>\n",
       "    </tr>\n",
       "    <tr>\n",
       "      <th>LP0010068</th>\n",
       "      <td>2232.000000</td>\n",
       "      <td>56543.0</td>\n",
       "      <td>141.0</td>\n",
       "      <td>0.0</td>\n",
       "      <td>58775.000000</td>\n",
       "      <td>1</td>\n",
       "      <td>0</td>\n",
       "      <td>1</td>\n",
       "      <td>0</td>\n",
       "      <td>1</td>\n",
       "      <td>0</td>\n",
       "      <td>0</td>\n",
       "      <td>1</td>\n",
       "      <td>0</td>\n",
       "    </tr>\n",
       "    <tr>\n",
       "      <th>LP0010069</th>\n",
       "      <td>32232.000000</td>\n",
       "      <td>10968.0</td>\n",
       "      <td>349.0</td>\n",
       "      <td>0.0</td>\n",
       "      <td>43200.000000</td>\n",
       "      <td>1</td>\n",
       "      <td>0</td>\n",
       "      <td>1</td>\n",
       "      <td>0</td>\n",
       "      <td>1</td>\n",
       "      <td>0</td>\n",
       "      <td>0</td>\n",
       "      <td>1</td>\n",
       "      <td>0</td>\n",
       "    </tr>\n",
       "    <tr>\n",
       "      <th>LP001011</th>\n",
       "      <td>20326.888889</td>\n",
       "      <td>10968.0</td>\n",
       "      <td>349.0</td>\n",
       "      <td>0.0</td>\n",
       "      <td>31294.888889</td>\n",
       "      <td>1</td>\n",
       "      <td>0</td>\n",
       "      <td>1</td>\n",
       "      <td>0</td>\n",
       "      <td>1</td>\n",
       "      <td>0</td>\n",
       "      <td>0</td>\n",
       "      <td>1</td>\n",
       "      <td>0</td>\n",
       "    </tr>\n",
       "  </tbody>\n",
       "</table>\n",
       "</div>"
      ],
      "text/plain": [
       "                 income  extraIncome  expenses  buy   total_income  \\\n",
       "id                                                                   \n",
       "LP001017    4583.000000      99905.0     128.0  0.0  104488.000000   \n",
       "LP001020   34332.000000      56543.0     141.0  0.0   90875.000000   \n",
       "LP0010068   2232.000000      56543.0     141.0  0.0   58775.000000   \n",
       "LP0010069  32232.000000      10968.0     349.0  0.0   43200.000000   \n",
       "LP001011   20326.888889      10968.0     349.0  0.0   31294.888889   \n",
       "\n",
       "           gender_Male  status_No  status_Yes  status_yes  employed_No  \\\n",
       "id                                                                       \n",
       "LP001017             1          0           0           1            1   \n",
       "LP001020             1          0           1           0            1   \n",
       "LP0010068            1          0           1           0            1   \n",
       "LP0010069            1          0           1           0            1   \n",
       "LP001011             1          0           1           0            1   \n",
       "\n",
       "           employed_Yes  income_category_low  income_category_mid  \\\n",
       "id                                                                  \n",
       "LP001017              0                    0                    0   \n",
       "LP001020              0                    0                    0   \n",
       "LP0010068             0                    0                    1   \n",
       "LP0010069             0                    0                    1   \n",
       "LP001011              0                    0                    1   \n",
       "\n",
       "           income_category_high  \n",
       "id                               \n",
       "LP001017                      1  \n",
       "LP001020                      1  \n",
       "LP0010068                     0  \n",
       "LP0010069                     0  \n",
       "LP001011                      0  "
      ]
     },
     "execution_count": 321,
     "metadata": {},
     "output_type": "execute_result"
    }
   ],
   "source": [
    "df=pd.get_dummies(df)\n",
    "df.head()"
   ]
  },
  {
   "cell_type": "code",
   "execution_count": null,
   "metadata": {},
   "outputs": [],
   "source": []
  },
  {
   "cell_type": "code",
   "execution_count": 322,
   "metadata": {
    "scrolled": true
   },
   "outputs": [
    {
     "name": "stdout",
     "output_type": "stream",
     "text": [
      "[0.65715418 0.23349652]\n"
     ]
    }
   ],
   "source": [
    "from sklearn.decomposition import PCA\n",
    "\n",
    "# Create an instance of PCA\n",
    "pca = PCA(n_components=2)  # Specify the number of components to keep\n",
    "\n",
    "# Fit and transform the data\n",
    "pca_result = pca.fit_transform(df)\n",
    "\n",
    "# Access the transformed data and explained variance ratio\n",
    "transformed_data = pca_result[:, 0]  # Transformed data with reduced dimensions\n",
    "explained_variance_ratio = pca.explained_variance_ratio_  # Explained variance ratio of each component\n",
    "print(explained_variance_ratio)"
   ]
  },
  {
   "cell_type": "code",
   "execution_count": 323,
   "metadata": {},
   "outputs": [
    {
     "name": "stdout",
     "output_type": "stream",
     "text": [
      "[102497.82332291  82818.25960056  45077.46698732  22887.04239791\n",
      "   8889.89817617   7950.22077256  -2987.85541139  -4916.86072457\n",
      "  -9407.59399887 -15434.34436477 -14004.95424931 -15021.72319681\n",
      " -17361.07064745 -17360.30363452 -20221.15870533 -21609.27984414\n",
      " -22184.62050188 -22804.90286087 -24165.02539905 -19588.97285312\n",
      " -20452.21964255 -25123.19345877 -20452.21964255  41769.83515724\n",
      " -19588.97285312 -25282.13631591 -25282.13631591 -17168.73894492\n",
      " -17168.73894492  29773.28245144 -17168.73894492  29773.28245144\n",
      " -19588.97285312  29773.28245144  41769.83515724  41769.83515724\n",
      " -25123.19345877 -25282.13631591]\n"
     ]
    }
   ],
   "source": [
    "print(transformed_data)"
   ]
  },
  {
   "cell_type": "markdown",
   "metadata": {},
   "source": [
    "# NOrmalization (min max, z score )\n"
   ]
  },
  {
   "cell_type": "code",
   "execution_count": 324,
   "metadata": {},
   "outputs": [
    {
     "data": {
      "text/plain": [
       "array([[0.07206383, 1.        ],\n",
       "       [0.60548682, 0.86586592],\n",
       "       [0.02990855, 0.54957236],\n",
       "       [0.56783217, 0.39610594],\n",
       "       [0.35436415, 0.27880034],\n",
       "       [0.40665232, 0.27618044],\n",
       "       [0.37023489, 0.18634715],\n",
       "       [0.35436415, 0.17072845],\n",
       "       [0.22013627, 0.13080364],\n",
       "       [0.10744128, 0.10082965],\n",
       "       [0.04498834, 0.08829615],\n",
       "       [0.04498834, 0.08059081],\n",
       "       [0.03620226, 0.06168217],\n",
       "       [0.03620226, 0.06168217],\n",
       "       [0.09166218, 0.04140391],\n",
       "       [0.07206383, 0.0304568 ],\n",
       "       [0.06171777, 0.02494876],\n",
       "       [0.03620226, 0.01912541],\n",
       "       [0.04726555, 0.00886804],\n",
       "       [0.        , 0.04292133],\n",
       "       [0.05146136, 0.03811288],\n",
       "       [0.05146136, 0.03843804],\n",
       "       [0.05146136, 0.03811288],\n",
       "       [1.        , 0.55968193],\n",
       "       [0.        , 0.04292133],\n",
       "       [0.0436794 , 0.        ],\n",
       "       [0.0436794 , 0.        ],\n",
       "       [0.08701811, 0.06516041],\n",
       "       [0.08701811, 0.06516041],\n",
       "       [0.80292272, 0.45856653],\n",
       "       [0.08701811, 0.06516041],\n",
       "       [0.80292272, 0.45856653],\n",
       "       [0.        , 0.04292133],\n",
       "       [0.80292272, 0.45856653],\n",
       "       [1.        , 0.55968193],\n",
       "       [1.        , 0.55968193],\n",
       "       [0.05146136, 0.03843804],\n",
       "       [0.0436794 , 0.        ]])"
      ]
     },
     "execution_count": 324,
     "metadata": {},
     "output_type": "execute_result"
    }
   ],
   "source": [
    "from sklearn.preprocessing import MinMaxScaler, StandardScaler\n",
    "mms=MinMaxScaler()\n",
    "mms.fit_transform(df[[\"income\",\"total_income\"]])"
   ]
  },
  {
   "cell_type": "code",
   "execution_count": 325,
   "metadata": {},
   "outputs": [
    {
     "data": {
      "text/plain": [
       "array([[-0.56080677,  3.13194638],\n",
       "       [ 1.10402897,  2.60150942],\n",
       "       [-0.69237519,  1.35071779],\n",
       "       [ 0.9865072 ,  0.74383057],\n",
       "       [ 0.32026449,  0.2799423 ],\n",
       "       [ 0.48345807,  0.26958182],\n",
       "       [ 0.36979774, -0.08566639],\n",
       "       [ 0.32026449, -0.14743099],\n",
       "       [-0.09866641, -0.30531475],\n",
       "       [-0.45039227, -0.42384771],\n",
       "       [-0.64531052, -0.47341179],\n",
       "       [-0.64531052, -0.50388279],\n",
       "       [-0.67273226, -0.57865753],\n",
       "       [-0.67273226, -0.57865753],\n",
       "       [-0.49963949, -0.65884847],\n",
       "       [-0.56080677, -0.70213911],\n",
       "       [-0.59309728, -0.72392081],\n",
       "       [-0.67273226, -0.7469494 ],\n",
       "       [-0.63820325, -0.78751246],\n",
       "       [-0.78572105, -0.65284779],\n",
       "       [-0.62510797, -0.67186294],\n",
       "       [-0.62510797, -0.67057708],\n",
       "       [-0.62510797, -0.67186294],\n",
       "       [ 2.33532131,  1.39069636],\n",
       "       [-0.78572105, -0.65284779],\n",
       "       [-0.6493958 , -0.82258138],\n",
       "       [-0.6493958 , -0.82258138],\n",
       "       [-0.51413384, -0.56490272],\n",
       "       [-0.51413384, -0.56490272],\n",
       "       [ 1.72023477,  0.99083269],\n",
       "       [-0.51413384, -0.56490272],\n",
       "       [ 1.72023477,  0.99083269],\n",
       "       [-0.78572105, -0.65284779],\n",
       "       [ 1.72023477,  0.99083269],\n",
       "       [ 2.33532131,  1.39069636],\n",
       "       [ 2.33532131,  1.39069636],\n",
       "       [-0.62510797, -0.67057708],\n",
       "       [-0.6493958 , -0.82258138]])"
      ]
     },
     "execution_count": 325,
     "metadata": {},
     "output_type": "execute_result"
    }
   ],
   "source": [
    "ss=StandardScaler()\n",
    "ss.fit_transform(df[[\"income\",\"total_income\"]])"
   ]
  },
  {
   "cell_type": "markdown",
   "metadata": {},
   "source": [
    "# transofrmation (sqr,log,exp) to make it normal dist"
   ]
  },
  {
   "cell_type": "code",
   "execution_count": 326,
   "metadata": {},
   "outputs": [
    {
     "data": {
      "text/plain": [
       "<AxesSubplot:>"
      ]
     },
     "execution_count": 326,
     "metadata": {},
     "output_type": "execute_result"
    },
    {
     "data": {
      "image/png": "[encoded data removed]",
      "text/plain": [
       "<Figure size 432x288 with 1 Axes>"
      ]
     },
     "metadata": {
      "needs_background": "light"
     },
     "output_type": "display_data"
    }
   ],
   "source": [
    "df[\"income\"].hist()"
   ]
  },
  {
   "cell_type": "code",
   "execution_count": 327,
   "metadata": {},
   "outputs": [
    {
     "data": {
      "text/plain": [
       "<AxesSubplot:>"
      ]
     },
     "execution_count": 327,
     "metadata": {},
     "output_type": "execute_result"
    },
    {
     "data": {
      "image/png": "[encoded data removed]",
      "text/plain": [
       "<Figure size 432x288 with 1 Axes>"
      ]
     },
     "metadata": {
      "needs_background": "light"
     },
     "output_type": "display_data"
    }
   ],
   "source": [
    "import  numpy as np\n",
    "np.sqrt(df[\"income\"]).hist()"
   ]
  },
  {
   "cell_type": "code",
   "execution_count": 328,
   "metadata": {},
   "outputs": [
    {
     "data": {
      "text/plain": [
       "<AxesSubplot:>"
      ]
     },
     "execution_count": 328,
     "metadata": {},
     "output_type": "execute_result"
    },
    {
     "data": {
      "image/png": "[encoded data removed]",
      "text/plain": [
       "<Figure size 432x288 with 1 Axes>"
      ]
     },
     "metadata": {
      "needs_background": "light"
     },
     "output_type": "display_data"
    }
   ],
   "source": [
    "np.log(df[\"income\"]).hist()"
   ]
  },
  {
   "cell_type": "code",
   "execution_count": 329,
   "metadata": {},
   "outputs": [
    {
     "name": "stderr",
     "output_type": "stream",
     "text": [
      "C:\\Users\\USER11\\anaconda3\\lib\\site-packages\\seaborn\\distributions.py:2551: FutureWarning: `distplot` is a deprecated function and will be removed in a future version. Please adapt your code to use either `displot` (a figure-level function with similar flexibility) or `histplot` (an axes-level function for histograms).\n",
      "  warnings.warn(msg, FutureWarning)\n"
     ]
    },
    {
     "data": {
      "text/plain": [
       "<AxesSubplot:xlabel='total_income', ylabel='Density'>"
      ]
     },
     "execution_count": 329,
     "metadata": {},
     "output_type": "execute_result"
    },
    {
     "data": {
      "image/png": "[encoded data removed]",
      "text/plain": [
       "<Figure size 432x288 with 1 Axes>"
      ]
     },
     "metadata": {
      "needs_background": "light"
     },
     "output_type": "display_data"
    }
   ],
   "source": [
    "sns.distplot(df['total_income'], hist=True)\n"
   ]
  },
  {
   "cell_type": "code",
   "execution_count": 330,
   "metadata": {},
   "outputs": [
    {
     "data": {
      "text/plain": [
       "<AxesSubplot:>"
      ]
     },
     "execution_count": 330,
     "metadata": {},
     "output_type": "execute_result"
    },
    {
     "data": {
      "image/png": "[encoded data removed]",
      "text/plain": [
       "<Figure size 432x288 with 1 Axes>"
      ]
     },
     "metadata": {
      "needs_background": "light"
     },
     "output_type": "display_data"
    }
   ],
   "source": [
    "df[\"total_income\"].hist()"
   ]
  },
  {
   "cell_type": "code",
   "execution_count": 331,
   "metadata": {},
   "outputs": [],
   "source": [
    "df[\"total_income\"]=np.log(df[\"total_income\"])\n"
   ]
  },
  {
   "cell_type": "code",
   "execution_count": 332,
   "metadata": {},
   "outputs": [
    {
     "name": "stderr",
     "output_type": "stream",
     "text": [
      "C:\\Users\\USER11\\anaconda3\\lib\\site-packages\\seaborn\\distributions.py:2551: FutureWarning: `distplot` is a deprecated function and will be removed in a future version. Please adapt your code to use either `displot` (a figure-level function with similar flexibility) or `histplot` (an axes-level function for histograms).\n",
      "  warnings.warn(msg, FutureWarning)\n"
     ]
    },
    {
     "data": {
      "text/plain": [
       "<AxesSubplot:xlabel='total_income', ylabel='Density'>"
      ]
     },
     "execution_count": 332,
     "metadata": {},
     "output_type": "execute_result"
    },
    {
     "data": {
      "image/png": "[encoded data removed]",
      "text/plain": [
       "<Figure size 432x288 with 1 Axes>"
      ]
     },
     "metadata": {
      "needs_background": "light"
     },
     "output_type": "display_data"
    }
   ],
   "source": [
    "sns.distplot(df['total_income'], hist=True)\n"
   ]
  },
  {
   "cell_type": "code",
   "execution_count": 334,
   "metadata": {},
   "outputs": [],
   "source": [
    "X = df.drop(columns=['buy'])\n",
    "y = df['buy']"
   ]
  },
  {
   "cell_type": "code",
   "execution_count": 335,
   "metadata": {},
   "outputs": [
    {
     "data": {
      "text/plain": [
       "((30, 13), (30,), (8, 13), (8,))"
      ]
     },
     "execution_count": 335,
     "metadata": {},
     "output_type": "execute_result"
    }
   ],
   "source": [
    "from sklearn.model_selection import train_test_split\n",
    "\n",
    "X_train, X_test, y_train, y_test = train_test_split(X, y, test_size=0.2)\n",
    "\n",
    "X_train.shape, y_train.shape, X_test.shape, y_test.shape"
   ]
  },
  {
   "cell_type": "code",
   "execution_count": null,
   "metadata": {},
   "outputs": [],
   "source": []
  },
  {
   "cell_type": "code",
   "execution_count": null,
   "metadata": {},
   "outputs": [],
   "source": []
  },
  {
   "cell_type": "code",
   "execution_count": null,
   "metadata": {},
   "outputs": [],
   "source": []
  },
  {
   "cell_type": "code",
   "execution_count": null,
   "metadata": {},
   "outputs": [],
   "source": []
  },
  {
   "cell_type": "code",
   "execution_count": null,
   "metadata": {},
   "outputs": [],
   "source": []
  },
  {
   "cell_type": "code",
   "execution_count": null,
   "metadata": {},
   "outputs": [],
   "source": []
  },
  {
   "cell_type": "code",
   "execution_count": null,
   "metadata": {},
   "outputs": [],
   "source": []
  }
 ],
 "metadata": {
  "kernelspec": {
   "display_name": "Python 3",
   "language": "python",
   "name": "python3"
  },
  "language_info": {
   "codemirror_mode": {
    "name": "ipython",
    "version": 3
   },
   "file_extension": ".py",
   "mimetype": "text/x-python",
   "name": "python",
   "nbconvert_exporter": "python",
   "pygments_lexer": "ipython3",
   "version": "3.8.5"
  }
 },
 "nbformat": 4,
 "nbformat_minor": 4
}
